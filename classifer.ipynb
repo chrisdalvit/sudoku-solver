{
 "cells": [
  {
   "cell_type": "code",
   "execution_count": 1,
   "metadata": {},
   "outputs": [],
   "source": [
    "import torch\n",
    "import torch.nn as nn\n",
    "import matplotlib.pyplot as plt\n",
    "from torchvision.transforms import ToTensor"
   ]
  },
  {
   "cell_type": "code",
   "execution_count": 2,
   "metadata": {},
   "outputs": [],
   "source": [
    "def train_nn(dataloader, model, loss_fn, optimizer):\n",
    "    model.train()\n",
    "    for (X, y) in dataloader:\n",
    "        pred = model(X)\n",
    "        loss = loss_fn(pred, y)\n",
    "\n",
    "        loss.backward()\n",
    "        optimizer.step()\n",
    "        optimizer.zero_grad()\n",
    "\n",
    "def test_nn(dataloader, model, loss_fn):\n",
    "    size = len(dataloader.dataset)\n",
    "    num_batches = len(dataloader)\n",
    "    model.eval()\n",
    "    test_loss, correct = 0, 0\n",
    "    with torch.no_grad():\n",
    "        for X, y in dataloader:\n",
    "            pred = model(X)\n",
    "            test_loss += loss_fn(pred, y).item()\n",
    "            correct += (pred.argmax(1) == y).type(torch.float).sum().item()\n",
    "    test_loss /= num_batches\n",
    "    correct /= size\n",
    "    print(f\"Accuracy: {(100*correct):>0.1f}%, Avg loss: {test_loss:>8f} \\n\")\n",
    "    \n",
    "def epoch_train_nn(n_epochs, train_dataloader, test_dataloader, model, loss_fn, optimizer):\n",
    "    for t in range(n_epochs):\n",
    "        print(f\"Epoch {t+1}\\n-------------------------------\")\n",
    "        train_nn(train_dataloader, model, loss_fn, optimizer)\n",
    "        test_nn(test_dataloader, model, loss_fn)\n",
    "    print(\"Done!\")"
   ]
  },
  {
   "cell_type": "code",
   "execution_count": 3,
   "metadata": {},
   "outputs": [],
   "source": [
    "from neural_network import NeuralNetwork\n",
    "\n",
    "model = NeuralNetwork()\n",
    "loss_fn = nn.CrossEntropyLoss()\n",
    "optimizer = torch.optim.SGD(model.parameters(), lr=0.003)"
   ]
  },
  {
   "cell_type": "code",
   "execution_count": 4,
   "metadata": {},
   "outputs": [
    {
     "name": "stdout",
     "output_type": "stream",
     "text": [
      "0 torch.Size([1, 28, 28]) 0\n",
      "1 torch.Size([1, 28, 28]) 0\n",
      "2 torch.Size([1, 28, 28]) 0\n",
      "3 torch.Size([1, 28, 28]) 0\n"
     ]
    },
    {
     "data": {
      "image/png": "[encoded data removed]",
      "text/plain": [
       "<Figure size 640x480 with 4 Axes>"
      ]
     },
     "metadata": {},
     "output_type": "display_data"
    }
   ],
   "source": [
    "from dataset import TrainDataset, TestDataset\n",
    "\n",
    "train_dataset = TrainDataset(transform=ToTensor())\n",
    "test_dataset = TestDataset(transform=ToTensor())\n",
    "fig = plt.figure()\n",
    "\n",
    "for i, (X, y) in enumerate(train_dataset):\n",
    "    print(i, X.shape, y)\n",
    "\n",
    "    ax = plt.subplot(1, 4, i + 1)\n",
    "    plt.tight_layout()\n",
    "    ax.set_title('Sample #{}'.format(i))\n",
    "    ax.axis('off')\n",
    "    plt.imshow(X[0], cmap=\"gray\", vmin=0, vmax=1)\n",
    "\n",
    "    if i == 3:\n",
    "        plt.show()\n",
    "        break"
   ]
  },
  {
   "cell_type": "code",
   "execution_count": 5,
   "metadata": {},
   "outputs": [
    {
     "name": "stdout",
     "output_type": "stream",
     "text": [
      "Epoch 1\n",
      "-------------------------------\n",
      "Accuracy: 42.1%, Avg loss: 1.628032 \n",
      "\n",
      "Epoch 2\n",
      "-------------------------------\n",
      "Accuracy: 68.3%, Avg loss: 0.891159 \n",
      "\n",
      "Epoch 3\n",
      "-------------------------------\n",
      "Accuracy: 82.3%, Avg loss: 0.536894 \n",
      "\n",
      "Epoch 4\n",
      "-------------------------------\n",
      "Accuracy: 88.5%, Avg loss: 0.391977 \n",
      "\n",
      "Epoch 5\n",
      "-------------------------------\n",
      "Accuracy: 92.8%, Avg loss: 0.253173 \n",
      "\n",
      "Epoch 6\n",
      "-------------------------------\n",
      "Accuracy: 94.2%, Avg loss: 0.210423 \n",
      "\n",
      "Epoch 7\n",
      "-------------------------------\n",
      "Accuracy: 90.6%, Avg loss: 0.353778 \n",
      "\n",
      "Epoch 8\n",
      "-------------------------------\n",
      "Accuracy: 91.7%, Avg loss: 0.304021 \n",
      "\n",
      "Epoch 9\n",
      "-------------------------------\n",
      "Accuracy: 95.3%, Avg loss: 0.176507 \n",
      "\n",
      "Epoch 10\n",
      "-------------------------------\n",
      "Accuracy: 95.9%, Avg loss: 0.169273 \n",
      "\n",
      "Done!\n"
     ]
    }
   ],
   "source": [
    "train_dataloader = torch.utils.data.DataLoader(train_dataset, shuffle=True)\n",
    "test_dataloader = torch.utils.data.DataLoader(test_dataset, shuffle=True)\n",
    "epoch_train_nn(10, train_dataloader, test_dataloader, model, loss_fn, optimizer)"
   ]
  },
  {
   "cell_type": "code",
   "execution_count": 6,
   "metadata": {},
   "outputs": [],
   "source": [
    "torch.save(model.state_dict(), \"model_file.pt\")"
   ]
  }
 ],
 "metadata": {
  "kernelspec": {
   "display_name": ".venv",
   "language": "python",
   "name": "python3"
  },
  "language_info": {
   "codemirror_mode": {
    "name": "ipython",
    "version": 3
   },
   "file_extension": ".py",
   "mimetype": "text/x-python",
   "name": "python",
   "nbconvert_exporter": "python",
   "pygments_lexer": "ipython3",
   "version": "3.9.6"
  }
 },
 "nbformat": 4,
 "nbformat_minor": 2
}
